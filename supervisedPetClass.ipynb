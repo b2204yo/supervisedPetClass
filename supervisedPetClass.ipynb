{
  "nbformat": 4,
  "nbformat_minor": 0,
  "metadata": {
    "colab": {
      "provenance": [],
      "gpuType": "T4",
      "mount_file_id": "https://github.com/b2204yo/supervisedPetClass/blob/develop/supervisedPetClass.ipynb",
      "authorship_tag": "ABX9TyNq9tuCsn+0yypcaL6koCM7",
      "include_colab_link": true
    },
    "kernelspec": {
      "name": "python3",
      "display_name": "Python 3"
    },
    "language_info": {
      "name": "python"
    },
    "accelerator": "GPU"
  },
  "cells": [
    {
      "cell_type": "markdown",
      "metadata": {
        "id": "view-in-github",
        "colab_type": "text"
      },
      "source": [
        "<a href=\"https://colab.research.google.com/github/b2204yo/supervisedPetClass/blob/develop/supervisedPetClass.ipynb\" target=\"_parent\"><img src=\"https://colab.research.google.com/assets/colab-badge.svg\" alt=\"Open In Colab\"/></a>"
      ]
    },
    {
      "cell_type": "markdown",
      "source": [
        "Google Driveをマウント"
      ],
      "metadata": {
        "id": "zzrzIVqnIwMG"
      }
    },
    {
      "cell_type": "code",
      "source": [
        "from google.colab import drive\n",
        "drive.mount('/content/drive')"
      ],
      "metadata": {
        "id": "mWKT7fXq651P"
      },
      "execution_count": null,
      "outputs": []
    },
    {
      "cell_type": "markdown",
      "source": [
        "# 新しいセクション"
      ],
      "metadata": {
        "id": "IAvXaRf46-Rm"
      }
    },
    {
      "cell_type": "code",
      "source": [
        "from google.colab import drive\n",
        "drive.mount('/content/drive/')"
      ],
      "metadata": {
        "colab": {
          "base_uri": "https://localhost:8080/"
        },
        "id": "DUJtJo_PNZ7h",
        "outputId": "6081067f-edc1-44cf-9ee2-dcf73413ed12"
      },
      "execution_count": null,
      "outputs": [
        {
          "output_type": "stream",
          "name": "stdout",
          "text": [
            "Mounted at /content/drive/\n"
          ]
        }
      ]
    },
    {
      "cell_type": "code",
      "execution_count": null,
      "metadata": {
        "id": "492z8uE6B0tL"
      },
      "outputs": [],
      "source": [
        "from tensorflow import keras\n",
        "from tensorflow.keras import layers\n",
        "from tensorflow.keras.datasets import mnist"
      ]
    },
    {
      "cell_type": "code",
      "source": [
        "from __future__ import print_function\n",
        "import keras\n",
        "from keras.applications import VGG16\n",
        "from keras.models import Sequential, load_model, model_from_json\n",
        "from keras import models, optimizers, layers\n",
        "from keras.optimizers import SGD\n",
        "from keras.layers import Dense, Dropout, Activation, Flatten\n",
        "from sklearn.model_selection import train_test_split\n",
        "from PIL import Image\n",
        "from keras.preprocessing import image as images\n",
        "\n",
        "from keras import backend as K\n",
        "import os\n",
        "import numpy as np\n",
        "import glob\n",
        "import pandas as pd\n",
        "import cv2\n"
      ],
      "metadata": {
        "id": "k7WtUF6YD6vv"
      },
      "execution_count": 24,
      "outputs": []
    },
    {
      "cell_type": "markdown",
      "source": [
        "GradCAM の関数"
      ],
      "metadata": {
        "id": "W_j7lxgdD-lT"
      }
    },
    {
      "cell_type": "code",
      "source": [
        "def Grad_Cam(input_model, pic_array, layer_name):\n",
        "\n",
        "    # 前処理\n",
        "    pic = np.expand_dims(pic_array, axis=0)\n",
        "    pic = pic.astype('float32')\n",
        "    preprocessed_input = pic / 255.0\n",
        "\n",
        "    # 予測クラスの算出\n",
        "    predictions = input_model.predict(preprocessed_input)\n",
        "    class_idx = np.argmax(predictions[0])\n",
        "    class_output = input_model.output[:, class_idx]\n",
        "\n",
        "    #  勾配を取得\n",
        "    conv_output = input_model.get_layer(layer_name).output   # layer_nameのレイヤーのアウトプット\n",
        "    grads = K.gradients(class_output, conv_output)[0]  # gradients(loss, variables) で、variablesのlossに関しての勾配を返す\n",
        "    gradient_function = K.function([input_model.input], [conv_output, grads])  # input_model.inputを入力すると、conv_outputとgradsを出力する関数\n",
        "\n",
        "    output, grads_val = gradient_function([preprocessed_input])\n",
        "    output, grads_val = output[0], grads_val[0]\n",
        "\n",
        "    # 重みを平均化して、レイヤーのアウトプットに乗じる\n",
        "    weights = np.mean(grads_val, axis=(0, 1))\n",
        "    cam = np.dot(output, weights)\n",
        "\n",
        "    # 画像化してヒートマップにして合成\n",
        "    cam = cv2.resize(cam, (224, 224), cv2.INTER_LINEAR)\n",
        "    cam = np.maximum(cam, 0)\n",
        "    cam = cam / cam.max()\n",
        "\n",
        "    jetcam = cv2.applyColorMap(np.uint8(255 * cam), cv2.COLORMAP_JET)  # モノクロ画像に疑似的に色をつける\n",
        "    jetcam = cv2.cvtColor(jetcam, cv2.COLOR_BGR2RGB)  # 色をRGBに変換\n",
        "    jetcam = (np.float32(jetcam) + pic / 2)   # もとの画像に合成\n",
        "    return jetcam"
      ],
      "metadata": {
        "id": "IPyZPkz2EFVw"
      },
      "execution_count": 25,
      "outputs": []
    },
    {
      "cell_type": "markdown",
      "source": [
        "Downloading the data"
      ],
      "metadata": {
        "id": "lL9NXDqJQCgX"
      }
    },
    {
      "cell_type": "code",
      "source": [
        "from google.colab import files\n",
        "files.upload()\n",
        "\n",
        "!mkdir ~/.kaggle\n",
        "!cp kaggle.json ~/.kaggle/\n",
        "!chmod 600 ~/.kaggle/kaggle.json\n",
        "\n",
        "!kaggle competitions download -c dogs-vs-cats\n",
        "\n"
      ],
      "metadata": {
        "colab": {
          "base_uri": "https://localhost:8080/",
          "height": 147
        },
        "id": "3ibXZzU1CJfP",
        "outputId": "1efbf9c4-65df-4274-d995-15684a38f0c5"
      },
      "execution_count": null,
      "outputs": [
        {
          "output_type": "display_data",
          "data": {
            "text/plain": [
              "<IPython.core.display.HTML object>"
            ],
            "text/html": [
              "\n",
              "     <input type=\"file\" id=\"files-50a42163-4587-4f21-9066-bcb85f98ff90\" name=\"files[]\" multiple disabled\n",
              "        style=\"border:none\" />\n",
              "     <output id=\"result-50a42163-4587-4f21-9066-bcb85f98ff90\">\n",
              "      Upload widget is only available when the cell has been executed in the\n",
              "      current browser session. Please rerun this cell to enable.\n",
              "      </output>\n",
              "      <script>// Copyright 2017 Google LLC\n",
              "//\n",
              "// Licensed under the Apache License, Version 2.0 (the \"License\");\n",
              "// you may not use this file except in compliance with the License.\n",
              "// You may obtain a copy of the License at\n",
              "//\n",
              "//      http://www.apache.org/licenses/LICENSE-2.0\n",
              "//\n",
              "// Unless required by applicable law or agreed to in writing, software\n",
              "// distributed under the License is distributed on an \"AS IS\" BASIS,\n",
              "// WITHOUT WARRANTIES OR CONDITIONS OF ANY KIND, either express or implied.\n",
              "// See the License for the specific language governing permissions and\n",
              "// limitations under the License.\n",
              "\n",
              "/**\n",
              " * @fileoverview Helpers for google.colab Python module.\n",
              " */\n",
              "(function(scope) {\n",
              "function span(text, styleAttributes = {}) {\n",
              "  const element = document.createElement('span');\n",
              "  element.textContent = text;\n",
              "  for (const key of Object.keys(styleAttributes)) {\n",
              "    element.style[key] = styleAttributes[key];\n",
              "  }\n",
              "  return element;\n",
              "}\n",
              "\n",
              "// Max number of bytes which will be uploaded at a time.\n",
              "const MAX_PAYLOAD_SIZE = 100 * 1024;\n",
              "\n",
              "function _uploadFiles(inputId, outputId) {\n",
              "  const steps = uploadFilesStep(inputId, outputId);\n",
              "  const outputElement = document.getElementById(outputId);\n",
              "  // Cache steps on the outputElement to make it available for the next call\n",
              "  // to uploadFilesContinue from Python.\n",
              "  outputElement.steps = steps;\n",
              "\n",
              "  return _uploadFilesContinue(outputId);\n",
              "}\n",
              "\n",
              "// This is roughly an async generator (not supported in the browser yet),\n",
              "// where there are multiple asynchronous steps and the Python side is going\n",
              "// to poll for completion of each step.\n",
              "// This uses a Promise to block the python side on completion of each step,\n",
              "// then passes the result of the previous step as the input to the next step.\n",
              "function _uploadFilesContinue(outputId) {\n",
              "  const outputElement = document.getElementById(outputId);\n",
              "  const steps = outputElement.steps;\n",
              "\n",
              "  const next = steps.next(outputElement.lastPromiseValue);\n",
              "  return Promise.resolve(next.value.promise).then((value) => {\n",
              "    // Cache the last promise value to make it available to the next\n",
              "    // step of the generator.\n",
              "    outputElement.lastPromiseValue = value;\n",
              "    return next.value.response;\n",
              "  });\n",
              "}\n",
              "\n",
              "/**\n",
              " * Generator function which is called between each async step of the upload\n",
              " * process.\n",
              " * @param {string} inputId Element ID of the input file picker element.\n",
              " * @param {string} outputId Element ID of the output display.\n",
              " * @return {!Iterable<!Object>} Iterable of next steps.\n",
              " */\n",
              "function* uploadFilesStep(inputId, outputId) {\n",
              "  const inputElement = document.getElementById(inputId);\n",
              "  inputElement.disabled = false;\n",
              "\n",
              "  const outputElement = document.getElementById(outputId);\n",
              "  outputElement.innerHTML = '';\n",
              "\n",
              "  const pickedPromise = new Promise((resolve) => {\n",
              "    inputElement.addEventListener('change', (e) => {\n",
              "      resolve(e.target.files);\n",
              "    });\n",
              "  });\n",
              "\n",
              "  const cancel = document.createElement('button');\n",
              "  inputElement.parentElement.appendChild(cancel);\n",
              "  cancel.textContent = 'Cancel upload';\n",
              "  const cancelPromise = new Promise((resolve) => {\n",
              "    cancel.onclick = () => {\n",
              "      resolve(null);\n",
              "    };\n",
              "  });\n",
              "\n",
              "  // Wait for the user to pick the files.\n",
              "  const files = yield {\n",
              "    promise: Promise.race([pickedPromise, cancelPromise]),\n",
              "    response: {\n",
              "      action: 'starting',\n",
              "    }\n",
              "  };\n",
              "\n",
              "  cancel.remove();\n",
              "\n",
              "  // Disable the input element since further picks are not allowed.\n",
              "  inputElement.disabled = true;\n",
              "\n",
              "  if (!files) {\n",
              "    return {\n",
              "      response: {\n",
              "        action: 'complete',\n",
              "      }\n",
              "    };\n",
              "  }\n",
              "\n",
              "  for (const file of files) {\n",
              "    const li = document.createElement('li');\n",
              "    li.append(span(file.name, {fontWeight: 'bold'}));\n",
              "    li.append(span(\n",
              "        `(${file.type || 'n/a'}) - ${file.size} bytes, ` +\n",
              "        `last modified: ${\n",
              "            file.lastModifiedDate ? file.lastModifiedDate.toLocaleDateString() :\n",
              "                                    'n/a'} - `));\n",
              "    const percent = span('0% done');\n",
              "    li.appendChild(percent);\n",
              "\n",
              "    outputElement.appendChild(li);\n",
              "\n",
              "    const fileDataPromise = new Promise((resolve) => {\n",
              "      const reader = new FileReader();\n",
              "      reader.onload = (e) => {\n",
              "        resolve(e.target.result);\n",
              "      };\n",
              "      reader.readAsArrayBuffer(file);\n",
              "    });\n",
              "    // Wait for the data to be ready.\n",
              "    let fileData = yield {\n",
              "      promise: fileDataPromise,\n",
              "      response: {\n",
              "        action: 'continue',\n",
              "      }\n",
              "    };\n",
              "\n",
              "    // Use a chunked sending to avoid message size limits. See b/62115660.\n",
              "    let position = 0;\n",
              "    do {\n",
              "      const length = Math.min(fileData.byteLength - position, MAX_PAYLOAD_SIZE);\n",
              "      const chunk = new Uint8Array(fileData, position, length);\n",
              "      position += length;\n",
              "\n",
              "      const base64 = btoa(String.fromCharCode.apply(null, chunk));\n",
              "      yield {\n",
              "        response: {\n",
              "          action: 'append',\n",
              "          file: file.name,\n",
              "          data: base64,\n",
              "        },\n",
              "      };\n",
              "\n",
              "      let percentDone = fileData.byteLength === 0 ?\n",
              "          100 :\n",
              "          Math.round((position / fileData.byteLength) * 100);\n",
              "      percent.textContent = `${percentDone}% done`;\n",
              "\n",
              "    } while (position < fileData.byteLength);\n",
              "  }\n",
              "\n",
              "  // All done.\n",
              "  yield {\n",
              "    response: {\n",
              "      action: 'complete',\n",
              "    }\n",
              "  };\n",
              "}\n",
              "\n",
              "scope.google = scope.google || {};\n",
              "scope.google.colab = scope.google.colab || {};\n",
              "scope.google.colab._files = {\n",
              "  _uploadFiles,\n",
              "  _uploadFilesContinue,\n",
              "};\n",
              "})(self);\n",
              "</script> "
            ]
          },
          "metadata": {}
        },
        {
          "output_type": "stream",
          "name": "stdout",
          "text": [
            "Saving kaggle.json to kaggle.json\n",
            "Downloading dogs-vs-cats.zip to /content\n",
            "100% 812M/812M [00:37<00:00, 23.2MB/s]\n",
            "100% 812M/812M [00:37<00:00, 22.9MB/s]\n",
            "cp: cannot create regular file './drive/dogs-vs-cats.zip': Operation not supported\n"
          ]
        }
      ]
    },
    {
      "cell_type": "code",
      "source": [
        "\n",
        "\n",
        "!unzip -qq dogs-vs-cats.zip\n",
        "\n",
        "# !unzip -qq train.zip"
      ],
      "metadata": {
        "id": "tRDY6D6FLc3-",
        "colab": {
          "base_uri": "https://localhost:8080/"
        },
        "outputId": "52e1abcb-1205-4f6c-f752-01abfc959eaa"
      },
      "execution_count": null,
      "outputs": [
        {
          "output_type": "stream",
          "name": "stdout",
          "text": [
            "replace sampleSubmission.csv? [y]es, [n]o, [A]ll, [N]one, [r]ename: "
          ]
        }
      ]
    },
    {
      "cell_type": "code",
      "source": [
        " !unzip -qq train.zip"
      ],
      "metadata": {
        "id": "1l_v0pK7UPMg"
      },
      "execution_count": null,
      "outputs": []
    },
    {
      "cell_type": "markdown",
      "source": [
        "Copying images to training, validation, and test directories"
      ],
      "metadata": {
        "id": "oAdpFC_jQHze"
      }
    },
    {
      "cell_type": "code",
      "source": [
        "import os, shutil, pathlib\n",
        "\n",
        "original_dir = pathlib.Path(\"supervisedLearningPET/cats_vs_dogs_small/train\")\n",
        "new_base_dir = pathlib.Path(\"supervisedLearningPET/cats_vs_dogs_small\")\n",
        "\n",
        "# def make_subset(subset_name, start_index, end_index):\n",
        "#     for category in (\"cat\", \"dog\"):\n",
        "#         dir = new_base_dir / subset_name / category\n",
        "#         os.makedirs(dir)\n",
        "#         fnames = [f\"{category}.{i}.jpg\" for i in range(start_index, end_index)]\n",
        "#         for fname in fnames:\n",
        "#             shutil.copyfile(src=original_dir / fname,\n",
        "#                             dst=dir / fname)\n",
        "\n",
        "# make_subset(\"train\", start_index=0, end_index=1000)\n",
        "# make_subset(\"validation\", start_index=1000, end_index=1500)\n",
        "# make_subset(\"test\", start_index=1500, end_index=2500)"
      ],
      "metadata": {
        "id": "dRCHj-83CDiW"
      },
      "execution_count": 31,
      "outputs": []
    },
    {
      "cell_type": "markdown",
      "source": [
        "Select learning model"
      ],
      "metadata": {
        "id": "GC_B7Xxf3B_a"
      }
    },
    {
      "cell_type": "markdown",
      "source": [
        "Set picuter setting"
      ],
      "metadata": {
        "id": "ITYAoKRg1wrf"
      }
    },
    {
      "cell_type": "code",
      "source": [
        "learning_model_name = \"VGG16\"\n",
        "# VGG16 : 180, Efficient Net 224\n",
        "\n",
        "if learning_model_name == \"VGG16\":\n",
        "  num_picel_units = 180\n",
        "  num_epoch = 30\n",
        "  conv_base  = keras.applications.vgg16.VGG16(\n",
        "     weights=\"imagenet\",\n",
        "     include_top=False)\n",
        "\n",
        "elif learning_model_name == \"EfficientNetV2\":\n",
        "  num_picel_units = 224\n",
        "  num_epoch = 350\n",
        "  conv_base = tf.keras.applications.efficientnet_v2.EfficientNetV2B0(weights=\"imagenet\")"
      ],
      "metadata": {
        "id": "ObGBxUsR10P6"
      },
      "execution_count": 27,
      "outputs": []
    },
    {
      "cell_type": "markdown",
      "source": [
        "Data preprocessing"
      ],
      "metadata": {
        "id": "Ew0N7Q6uTcTf"
      }
    },
    {
      "cell_type": "code",
      "source": [
        "from tensorflow.keras.utils import image_dataset_from_directory\n",
        "\n",
        "train_dataset = image_dataset_from_directory(\n",
        "    new_base_dir / \"train\",\n",
        "    image_size=(num_picel_units, num_picel_units),\n",
        "    batch_size=32)\n",
        "validation_dataset = image_dataset_from_directory(\n",
        "    new_base_dir / \"validation\",\n",
        "    image_size=(num_picel_units, num_picel_units),\n",
        "    batch_size=32)\n",
        "test_dataset = image_dataset_from_directory(\n",
        "    new_base_dir / \"test\",\n",
        "    image_size=(num_picel_units, num_picel_units),\n",
        "    batch_size=32)"
      ],
      "metadata": {
        "colab": {
          "base_uri": "https://localhost:8080/"
        },
        "id": "5nCbaMvsVrdw",
        "outputId": "0fa8d757-ca19-42c6-8cee-49bef45d3d8c"
      },
      "execution_count": 32,
      "outputs": [
        {
          "output_type": "stream",
          "name": "stdout",
          "text": [
            "Found 2000 files belonging to 2 classes.\n",
            "Found 1000 files belonging to 2 classes.\n",
            "Found 2000 files belonging to 2 classes.\n"
          ]
        }
      ]
    },
    {
      "cell_type": "code",
      "source": [
        "import numpy as np\n",
        "import tensorflow as tf\n",
        "random_numbers = np.random.normal(size=(1000, 16))\n",
        "dataset = tf.data.Dataset.from_tensor_slices(random_numbers)"
      ],
      "metadata": {
        "id": "M1PuTmWcVvzL"
      },
      "execution_count": 33,
      "outputs": []
    },
    {
      "cell_type": "code",
      "source": [
        "for i, element in enumerate(dataset):\n",
        "    print(element.shape)\n",
        "    if i >= 2:\n",
        "        break"
      ],
      "metadata": {
        "colab": {
          "base_uri": "https://localhost:8080/"
        },
        "id": "1YrZUvfTVyYx",
        "outputId": "b885b818-3065-42d3-a7c2-dc26a41cbb7d"
      },
      "execution_count": 34,
      "outputs": [
        {
          "output_type": "stream",
          "name": "stdout",
          "text": [
            "(16,)\n",
            "(16,)\n",
            "(16,)\n"
          ]
        }
      ]
    },
    {
      "cell_type": "code",
      "source": [
        "batched_dataset = dataset.batch(32)\n",
        "for i, element in enumerate(batched_dataset):\n",
        "    print(element.shape)\n",
        "    if i >= 2:\n",
        "        break"
      ],
      "metadata": {
        "id": "CTRnYDfOV1Cn",
        "colab": {
          "base_uri": "https://localhost:8080/"
        },
        "outputId": "c630ca84-caec-4455-9e20-143e76dd87d2"
      },
      "execution_count": 35,
      "outputs": [
        {
          "output_type": "stream",
          "name": "stdout",
          "text": [
            "(32, 16)\n",
            "(32, 16)\n",
            "(32, 16)\n"
          ]
        }
      ]
    },
    {
      "cell_type": "code",
      "source": [
        "reshaped_dataset = dataset.map(lambda x: tf.reshape(x, (4, 4)))\n",
        "for i, element in enumerate(reshaped_dataset):\n",
        "    print(element.shape)\n",
        "    if i >= 2:\n",
        "        break"
      ],
      "metadata": {
        "colab": {
          "base_uri": "https://localhost:8080/"
        },
        "id": "72fFPmlMV29u",
        "outputId": "7613aaab-3ce1-49d5-ca7c-257b77b29bbb"
      },
      "execution_count": 36,
      "outputs": [
        {
          "output_type": "stream",
          "name": "stdout",
          "text": [
            "(4, 4)\n",
            "(4, 4)\n",
            "(4, 4)\n"
          ]
        }
      ]
    },
    {
      "cell_type": "markdown",
      "source": [
        "Displaying the shapes of the data and labels yielded by the Dataset"
      ],
      "metadata": {
        "id": "x8AlsjRCWATW"
      }
    },
    {
      "cell_type": "code",
      "source": [
        "for data_batch, labels_batch in train_dataset:\n",
        "    print(\"data batch shape:\", data_batch.shape)\n",
        "    print(\"labels batch shape:\", labels_batch.shape)\n",
        "    break"
      ],
      "metadata": {
        "colab": {
          "base_uri": "https://localhost:8080/"
        },
        "id": "6IPENK-HWCku",
        "outputId": "584dcc9e-4870-4322-87a9-d57c0566cfbf"
      },
      "execution_count": 37,
      "outputs": [
        {
          "output_type": "stream",
          "name": "stdout",
          "text": [
            "data batch shape: (32, 180, 180, 3)\n",
            "labels batch shape: (32,)\n"
          ]
        }
      ]
    },
    {
      "cell_type": "markdown",
      "source": [
        "Using image_dataset_from_directory to read images"
      ],
      "metadata": {
        "id": "kVx68h_lTeZt"
      }
    },
    {
      "cell_type": "code",
      "source": [
        "from tensorflow.keras.utils import image_dataset_from_directory\n",
        "\n",
        "train_dataset = image_dataset_from_directory(\n",
        "    new_base_dir / \"train\",\n",
        "    image_size=(num_picel_units, num_picel_units),\n",
        "    batch_size=32)\n",
        "validation_dataset = image_dataset_from_directory(\n",
        "    new_base_dir / \"validation\",\n",
        "    image_size=(num_picel_units, num_picel_units),\n",
        "    batch_size=32)\n",
        "test_dataset = image_dataset_from_directory(\n",
        "    new_base_dir / \"test\",\n",
        "    image_size=(num_picel_units, num_picel_units),\n",
        "    batch_size=32)"
      ],
      "metadata": {
        "colab": {
          "base_uri": "https://localhost:8080/"
        },
        "id": "fiOw-E1wTgrW",
        "outputId": "f8acb14a-6621-49e9-cf92-a35ed540efed"
      },
      "execution_count": 38,
      "outputs": [
        {
          "output_type": "stream",
          "name": "stdout",
          "text": [
            "Found 2000 files belonging to 2 classes.\n",
            "Found 1000 files belonging to 2 classes.\n",
            "Found 2000 files belonging to 2 classes.\n"
          ]
        }
      ]
    },
    {
      "cell_type": "markdown",
      "source": [
        "Instantiating the VGG16,ResNet, Mobilenet, Efficient Net convolutional base"
      ],
      "metadata": {
        "id": "7CoOBTXZQnyV"
      }
    },
    {
      "cell_type": "code",
      "source": [
        "# VGG16\n",
        "# if learning_model_name == \"VGG16\":\n",
        "#   conv_base  = keras.applications.vgg16.VGG16(\n",
        "#      weights=\"imagenet\",\n",
        "#      include_top=False)\n",
        "\n",
        "# # Efficient\n",
        "# elif learning_model_name == \"EfficientNetV2\":\n",
        "#   conv_base = tf.keras.applications.efficientnet_v2.EfficientNetV2B0(weights=\"imagenet\")\n",
        "conv_base.summary()\n",
        "conv_base.trainable = False"
      ],
      "metadata": {
        "id": "uIq-N-lYbMdg",
        "colab": {
          "base_uri": "https://localhost:8080/"
        },
        "outputId": "9630cd97-eb7a-4376-a214-87c1f2d41d9d"
      },
      "execution_count": 39,
      "outputs": [
        {
          "output_type": "stream",
          "name": "stdout",
          "text": [
            "Model: \"vgg16\"\n",
            "_________________________________________________________________\n",
            " Layer (type)                Output Shape              Param #   \n",
            "=================================================================\n",
            " input_3 (InputLayer)        [(None, None, None, 3)]   0         \n",
            "                                                                 \n",
            " block1_conv1 (Conv2D)       (None, None, None, 64)    1792      \n",
            "                                                                 \n",
            " block1_conv2 (Conv2D)       (None, None, None, 64)    36928     \n",
            "                                                                 \n",
            " block1_pool (MaxPooling2D)  (None, None, None, 64)    0         \n",
            "                                                                 \n",
            " block2_conv1 (Conv2D)       (None, None, None, 128)   73856     \n",
            "                                                                 \n",
            " block2_conv2 (Conv2D)       (None, None, None, 128)   147584    \n",
            "                                                                 \n",
            " block2_pool (MaxPooling2D)  (None, None, None, 128)   0         \n",
            "                                                                 \n",
            " block3_conv1 (Conv2D)       (None, None, None, 256)   295168    \n",
            "                                                                 \n",
            " block3_conv2 (Conv2D)       (None, None, None, 256)   590080    \n",
            "                                                                 \n",
            " block3_conv3 (Conv2D)       (None, None, None, 256)   590080    \n",
            "                                                                 \n",
            " block3_pool (MaxPooling2D)  (None, None, None, 256)   0         \n",
            "                                                                 \n",
            " block4_conv1 (Conv2D)       (None, None, None, 512)   1180160   \n",
            "                                                                 \n",
            " block4_conv2 (Conv2D)       (None, None, None, 512)   2359808   \n",
            "                                                                 \n",
            " block4_conv3 (Conv2D)       (None, None, None, 512)   2359808   \n",
            "                                                                 \n",
            " block4_pool (MaxPooling2D)  (None, None, None, 512)   0         \n",
            "                                                                 \n",
            " block5_conv1 (Conv2D)       (None, None, None, 512)   2359808   \n",
            "                                                                 \n",
            " block5_conv2 (Conv2D)       (None, None, None, 512)   2359808   \n",
            "                                                                 \n",
            " block5_conv3 (Conv2D)       (None, None, None, 512)   2359808   \n",
            "                                                                 \n",
            " block5_pool (MaxPooling2D)  (None, None, None, 512)   0         \n",
            "                                                                 \n",
            "=================================================================\n",
            "Total params: 14,714,688\n",
            "Trainable params: 14,714,688\n",
            "Non-trainable params: 0\n",
            "_________________________________________________________________\n"
          ]
        }
      ]
    },
    {
      "cell_type": "markdown",
      "source": [
        "Printing the list of trainable weights before and after freezing"
      ],
      "metadata": {
        "id": "uM2wnzqgbPE9"
      }
    },
    {
      "cell_type": "code",
      "source": [
        "conv_base.trainable = True\n",
        "print(\"This is the number of trainable weights \"\n",
        "      \"before freezing the conv base:\", len(conv_base.trainable_weights))"
      ],
      "metadata": {
        "colab": {
          "base_uri": "https://localhost:8080/"
        },
        "id": "U1K3YLBMbB3-",
        "outputId": "16c93cac-dbfd-4a50-b5a9-777ac6ed824c"
      },
      "execution_count": 40,
      "outputs": [
        {
          "output_type": "stream",
          "name": "stdout",
          "text": [
            "This is the number of trainable weights before freezing the conv base: 26\n"
          ]
        }
      ]
    },
    {
      "cell_type": "code",
      "source": [
        "conv_base.trainable = False\n",
        "print(\"This is the number of trainable weights \"\n",
        "      \"after freezing the conv base:\", len(conv_base.trainable_weights))"
      ],
      "metadata": {
        "colab": {
          "base_uri": "https://localhost:8080/"
        },
        "id": "uNK-k3bqbBnr",
        "outputId": "82badaeb-fcb4-4044-c44f-30b486857316"
      },
      "execution_count": 41,
      "outputs": [
        {
          "output_type": "stream",
          "name": "stdout",
          "text": [
            "This is the number of trainable weights after freezing the conv base: 0\n"
          ]
        }
      ]
    },
    {
      "cell_type": "markdown",
      "source": [
        "Adding a data augmentation stage and a classifier to the convolutional base"
      ],
      "metadata": {
        "id": "iA45HLq6a_bS"
      }
    },
    {
      "cell_type": "code",
      "source": [
        "data_augmentation = keras.Sequential(\n",
        "    [\n",
        "        layers.RandomFlip(\"horizontal\"),\n",
        "        layers.RandomRotation(0.1),\n",
        "        layers.RandomZoom(0.2),\n",
        "    ]\n",
        ")\n",
        "\n",
        "inputs = keras.Input(shape=(num_picel_units, num_picel_units, 3))\n",
        "x = data_augmentation(inputs)\n",
        "x = keras.applications.vgg16.preprocess_input(x)\n",
        "x = conv_base(x)\n",
        "x = layers.Flatten()(x)\n",
        "x = layers.Dense(256)(x)\n",
        "x = layers.Dropout(0.5)(x)\n",
        "outputs = layers.Dense(1, activation=\"sigmoid\")(x)\n",
        "model = keras.Model(inputs, outputs)\n",
        "model.compile(loss=\"binary_crossentropy\",\n",
        "              optimizer=\"rmsprop\",\n",
        "              metrics=[\"accuracy\"])"
      ],
      "metadata": {
        "id": "IhQ4vUNZa7up"
      },
      "execution_count": 42,
      "outputs": []
    },
    {
      "cell_type": "markdown",
      "source": [
        "Evaluating the model on the test set"
      ],
      "metadata": {
        "id": "iRwwn2uGawkG"
      }
    },
    {
      "cell_type": "code",
      "source": [
        "conv_base.summary()"
      ],
      "metadata": {
        "id": "YGhFkTnMasgr"
      },
      "execution_count": null,
      "outputs": []
    },
    {
      "cell_type": "markdown",
      "source": [
        "Freezing all layers until the fourth from the last"
      ],
      "metadata": {
        "id": "sehRwbA_ajBI"
      }
    },
    {
      "cell_type": "code",
      "source": [
        "conv_base.trainable = True\n",
        "for layer in conv_base.layers[:-4]:\n",
        "    layer.trainable = False"
      ],
      "metadata": {
        "id": "sVSjtd0Kame1"
      },
      "execution_count": 44,
      "outputs": []
    },
    {
      "cell_type": "markdown",
      "source": [
        "Fine-tuning the model"
      ],
      "metadata": {
        "id": "xCXGPStBaYAt"
      }
    },
    {
      "cell_type": "code",
      "source": [
        "model.compile(loss=\"binary_crossentropy\",\n",
        "              optimizer=keras.optimizers.RMSprop(learning_rate=1e-5),\n",
        "              metrics=[\"accuracy\"])\n",
        "\n",
        "callbacks = [\n",
        "    keras.callbacks.ModelCheckpoint(\n",
        "        filepath=\"fine_tuning.keras\",\n",
        "        save_best_only=True,\n",
        "        monitor=\"val_loss\")\n",
        "]\n",
        "history = model.fit(\n",
        "    train_dataset,\n",
        "    epochs=num_epoch,\n",
        "    validation_data=validation_dataset,\n",
        "    callbacks=callbacks)"
      ],
      "metadata": {
        "colab": {
          "base_uri": "https://localhost:8080/"
        },
        "id": "kKGfeWsOaaOc",
        "outputId": "fb7504f8-e0b2-45b2-8900-2d61a7c3d034"
      },
      "execution_count": 45,
      "outputs": [
        {
          "output_type": "stream",
          "name": "stdout",
          "text": [
            "Epoch 1/30\n",
            "63/63 [==============================] - 14s 189ms/step - loss: 3.2286 - accuracy: 0.7800 - val_loss: 0.5253 - val_accuracy: 0.9360\n",
            "Epoch 2/30\n",
            "63/63 [==============================] - 12s 186ms/step - loss: 1.0530 - accuracy: 0.8805 - val_loss: 0.2637 - val_accuracy: 0.9560\n",
            "Epoch 3/30\n",
            "63/63 [==============================] - 11s 171ms/step - loss: 0.5802 - accuracy: 0.9150 - val_loss: 0.2136 - val_accuracy: 0.9630\n",
            "Epoch 4/30\n",
            "63/63 [==============================] - 11s 166ms/step - loss: 0.4112 - accuracy: 0.9325 - val_loss: 0.1535 - val_accuracy: 0.9730\n",
            "Epoch 5/30\n",
            "63/63 [==============================] - 11s 170ms/step - loss: 0.3425 - accuracy: 0.9365 - val_loss: 0.1418 - val_accuracy: 0.9690\n",
            "Epoch 6/30\n",
            "63/63 [==============================] - 13s 198ms/step - loss: 0.2527 - accuracy: 0.9480 - val_loss: 0.1315 - val_accuracy: 0.9690\n",
            "Epoch 7/30\n",
            "63/63 [==============================] - 12s 194ms/step - loss: 0.1618 - accuracy: 0.9535 - val_loss: 0.1336 - val_accuracy: 0.9700\n",
            "Epoch 8/30\n",
            "63/63 [==============================] - 13s 201ms/step - loss: 0.1902 - accuracy: 0.9540 - val_loss: 0.1073 - val_accuracy: 0.9750\n",
            "Epoch 9/30\n",
            "63/63 [==============================] - 11s 165ms/step - loss: 0.1525 - accuracy: 0.9600 - val_loss: 0.0970 - val_accuracy: 0.9760\n",
            "Epoch 10/30\n",
            "63/63 [==============================] - 11s 165ms/step - loss: 0.1261 - accuracy: 0.9645 - val_loss: 0.0972 - val_accuracy: 0.9760\n",
            "Epoch 11/30\n",
            "63/63 [==============================] - 11s 168ms/step - loss: 0.1020 - accuracy: 0.9720 - val_loss: 0.1506 - val_accuracy: 0.9760\n",
            "Epoch 12/30\n",
            "63/63 [==============================] - 11s 164ms/step - loss: 0.1016 - accuracy: 0.9745 - val_loss: 0.1105 - val_accuracy: 0.9710\n",
            "Epoch 13/30\n",
            "63/63 [==============================] - 11s 166ms/step - loss: 0.0598 - accuracy: 0.9790 - val_loss: 0.1321 - val_accuracy: 0.9760\n",
            "Epoch 14/30\n",
            "63/63 [==============================] - 13s 197ms/step - loss: 0.0620 - accuracy: 0.9820 - val_loss: 0.1438 - val_accuracy: 0.9750\n",
            "Epoch 15/30\n",
            "63/63 [==============================] - 10s 159ms/step - loss: 0.0915 - accuracy: 0.9740 - val_loss: 0.1456 - val_accuracy: 0.9780\n",
            "Epoch 16/30\n",
            "63/63 [==============================] - 11s 166ms/step - loss: 0.0599 - accuracy: 0.9815 - val_loss: 0.1471 - val_accuracy: 0.9740\n",
            "Epoch 17/30\n",
            "63/63 [==============================] - 11s 168ms/step - loss: 0.0770 - accuracy: 0.9850 - val_loss: 0.1484 - val_accuracy: 0.9750\n",
            "Epoch 18/30\n",
            "63/63 [==============================] - 11s 169ms/step - loss: 0.0783 - accuracy: 0.9770 - val_loss: 0.1519 - val_accuracy: 0.9750\n",
            "Epoch 19/30\n",
            "63/63 [==============================] - 10s 160ms/step - loss: 0.0526 - accuracy: 0.9850 - val_loss: 0.1432 - val_accuracy: 0.9770\n",
            "Epoch 20/30\n",
            "63/63 [==============================] - 11s 162ms/step - loss: 0.0399 - accuracy: 0.9885 - val_loss: 0.1465 - val_accuracy: 0.9790\n",
            "Epoch 21/30\n",
            "63/63 [==============================] - 11s 164ms/step - loss: 0.0390 - accuracy: 0.9890 - val_loss: 0.1620 - val_accuracy: 0.9780\n",
            "Epoch 22/30\n",
            "63/63 [==============================] - 11s 166ms/step - loss: 0.0520 - accuracy: 0.9885 - val_loss: 0.1586 - val_accuracy: 0.9780\n",
            "Epoch 23/30\n",
            "63/63 [==============================] - 11s 161ms/step - loss: 0.0682 - accuracy: 0.9875 - val_loss: 0.1728 - val_accuracy: 0.9770\n",
            "Epoch 24/30\n",
            "63/63 [==============================] - 11s 168ms/step - loss: 0.0318 - accuracy: 0.9905 - val_loss: 0.1849 - val_accuracy: 0.9750\n",
            "Epoch 25/30\n",
            "63/63 [==============================] - 11s 169ms/step - loss: 0.0325 - accuracy: 0.9930 - val_loss: 0.1985 - val_accuracy: 0.9750\n",
            "Epoch 26/30\n",
            "63/63 [==============================] - 10s 159ms/step - loss: 0.0287 - accuracy: 0.9920 - val_loss: 0.2163 - val_accuracy: 0.9770\n",
            "Epoch 27/30\n",
            "63/63 [==============================] - 11s 166ms/step - loss: 0.0365 - accuracy: 0.9910 - val_loss: 0.1938 - val_accuracy: 0.9740\n",
            "Epoch 28/30\n",
            "63/63 [==============================] - 11s 169ms/step - loss: 0.0289 - accuracy: 0.9925 - val_loss: 0.1837 - val_accuracy: 0.9760\n",
            "Epoch 29/30\n",
            "63/63 [==============================] - 11s 164ms/step - loss: 0.0298 - accuracy: 0.9905 - val_loss: 0.1749 - val_accuracy: 0.9750\n",
            "Epoch 30/30\n",
            "63/63 [==============================] - 11s 166ms/step - loss: 0.0563 - accuracy: 0.9900 - val_loss: 0.1854 - val_accuracy: 0.9730\n"
          ]
        }
      ]
    },
    {
      "cell_type": "code",
      "source": [
        "model = keras.models.load_model(\"fine_tuning.keras\")\n",
        "test_loss, test_acc = model.evaluate(test_dataset)\n",
        "print(f\"Test accuracy: {test_acc:.3f}\")"
      ],
      "metadata": {
        "id": "AeX92hI6ac-r",
        "colab": {
          "base_uri": "https://localhost:8080/"
        },
        "outputId": "ce7e1707-43f9-43ea-931c-b75a2c889dd3"
      },
      "execution_count": 46,
      "outputs": [
        {
          "output_type": "stream",
          "name": "stdout",
          "text": [
            "63/63 [==============================] - 7s 91ms/step - loss: 0.1342 - accuracy: 0.9740\n",
            "Test accuracy: 0.974\n"
          ]
        }
      ]
    },
    {
      "cell_type": "markdown",
      "source": [
        "Plot result graph"
      ],
      "metadata": {
        "id": "67-CNbl9gnuU"
      }
    },
    {
      "cell_type": "code",
      "source": [
        "import matplotlib.pyplot as plt\n",
        "acc = history.history[\"accuracy\"]\n",
        "val_acc = history.history[\"val_accuracy\"]\n",
        "loss = history.history[\"loss\"]\n",
        "val_loss = history.history[\"val_loss\"]\n",
        "epochs = range(1, len(acc) + 1)\n",
        "plt.plot(epochs, acc, \"bo\", label=\"Training accuracy\")\n",
        "plt.plot(epochs, val_acc, \"b\", label=\"Validation accuracy\")\n",
        "plt.title(\"Training and validation accuracy\")\n",
        "plt.legend()\n",
        "plt.figure()\n",
        "plt.plot(epochs, loss, \"bo\", label=\"Training loss\")\n",
        "plt.plot(epochs, val_loss, \"b\", label=\"Validation loss\")\n",
        "plt.title(\"Training and validation loss\")\n",
        "plt.legend()\n",
        "plt.show()"
      ],
      "metadata": {
        "id": "gZ0Gpp3RgrQN",
        "colab": {
          "base_uri": "https://localhost:8080/",
          "height": 887
        },
        "outputId": "3df83212-4621-4c40-e10f-724054df4bec"
      },
      "execution_count": 47,
      "outputs": [
        {
          "output_type": "display_data",
          "data": {
            "text/plain": [
              "<Figure size 640x480 with 1 Axes>"
            ],
            "image/png": "[encoded data removed]"
          },
          "metadata": {}
        },
        {
          "output_type": "display_data",
          "data": {
            "text/plain": [
              "<Figure size 640x480 with 1 Axes>"
            ],
            "image/png": "[encoded data removed]"
          },
          "metadata": {}
        }
      ]
    },
    {
      "cell_type": "markdown",
      "source": [],
      "metadata": {
        "id": "V4CHGwcLNDE9"
      }
    },
    {
      "cell_type": "markdown",
      "source": [
        "Heatmap を作る関数"
      ],
      "metadata": {
        "id": "fYbGGQ4CNPVu"
      }
    },
    {
      "cell_type": "code",
      "source": [
        "def make_heatmap(last_conv_layer_name, model, target_image):\n",
        "    with tf.GradientTape() as tape:\n",
        "        last_conv_layer = model.get_layer(last_conv_layer_name)  # 最後の畳込み層を取り出す\n",
        "        iterate = tf.keras.models.Model([model.inputs], [model.output, last_conv_layer.output])\n",
        "        model_out, last_conv_layer = iterate(target_image)\n",
        "        class_out = model_out[:, np.argmax(model_out[0])]\n",
        "        grads = tape.gradient(class_out, last_conv_layer)\n",
        "        pooled_grads = K.mean(grads, axis=(0, 1, 2))\n",
        "\n",
        "    heatmap = tf.reduce_mean(tf.multiply(pooled_grads, last_conv_layer), axis=-1)\n",
        "\n",
        "    heatmap_shape = (grads.shape[1], grads.shape[2])\n",
        "\n",
        "    # ヒートマップの値を正規化\n",
        "    heatmap_Emphasis = np.maximum(heatmap, 0)\n",
        "    heatmap_Emphasis /= np.max(heatmap_Emphasis)\n",
        "    heatmap_Emphasis = heatmap_Emphasis.reshape(heatmap_shape)\n",
        "    plt.matshow(heatmap_Emphasis)\n",
        "    plt.show()\n",
        "\n",
        "    return heatmap_Emphasis\n",
        "\n"
      ],
      "metadata": {
        "id": "Dct5Cm51NCGq"
      },
      "execution_count": 52,
      "outputs": []
    },
    {
      "cell_type": "code",
      "source": [
        "\n",
        "\n"
      ],
      "metadata": {
        "colab": {
          "base_uri": "https://localhost:8080/",
          "height": 378
        },
        "id": "irliuv9vOBXx",
        "outputId": "b596c0ba-9794-46a4-90b0-bcc022a6ac46"
      },
      "execution_count": 50,
      "outputs": [
        {
          "output_type": "error",
          "ename": "ImportError",
          "evalue": "ignored",
          "traceback": [
            "\u001b[0;31m---------------------------------------------------------------------------\u001b[0m",
            "\u001b[0;31mImportError\u001b[0m                               Traceback (most recent call last)",
            "\u001b[0;32m<ipython-input-50-9acbae672ed9>\u001b[0m in \u001b[0;36m<cell line: 1>\u001b[0;34m()\u001b[0m\n\u001b[0;32m----> 1\u001b[0;31m \u001b[0;32mfrom\u001b[0m \u001b[0mkeras\u001b[0m\u001b[0;34m.\u001b[0m\u001b[0mpreprocessing\u001b[0m\u001b[0;34m.\u001b[0m\u001b[0mimage\u001b[0m \u001b[0;32mimport\u001b[0m \u001b[0marray_to_img\u001b[0m\u001b[0;34m,\u001b[0m \u001b[0mimg_to_array\u001b[0m\u001b[0;34m,\u001b[0m \u001b[0mload_img\u001b[0m\u001b[0;34m\u001b[0m\u001b[0;34m\u001b[0m\u001b[0m\n\u001b[0m\u001b[1;32m      2\u001b[0m \u001b[0mpic_array\u001b[0m \u001b[0;34m=\u001b[0m \u001b[0mimg_to_array\u001b[0m\u001b[0;34m(\u001b[0m\u001b[0mload_img\u001b[0m\u001b[0;34m(\u001b[0m\u001b[0;34m'DAGM/Class1_def/12.png'\u001b[0m\u001b[0;34m,\u001b[0m \u001b[0mtarget_size\u001b[0m\u001b[0;34m=\u001b[0m\u001b[0;34m(\u001b[0m\u001b[0;36m224\u001b[0m\u001b[0;34m,\u001b[0m \u001b[0;36m224\u001b[0m\u001b[0;34m)\u001b[0m\u001b[0;34m)\u001b[0m\u001b[0;34m)\u001b[0m\u001b[0;34m\u001b[0m\u001b[0;34m\u001b[0m\u001b[0m\n\u001b[1;32m      3\u001b[0m \u001b[0mpic\u001b[0m \u001b[0;34m=\u001b[0m \u001b[0mpic_array\u001b[0m\u001b[0;34m.\u001b[0m\u001b[0mreshape\u001b[0m\u001b[0;34m(\u001b[0m\u001b[0;34m(\u001b[0m\u001b[0;36m1\u001b[0m\u001b[0;34m,\u001b[0m\u001b[0;34m)\u001b[0m \u001b[0;34m+\u001b[0m \u001b[0mpic_array\u001b[0m\u001b[0;34m.\u001b[0m\u001b[0mshape\u001b[0m\u001b[0;34m)\u001b[0m\u001b[0;34m\u001b[0m\u001b[0;34m\u001b[0m\u001b[0m\n\u001b[1;32m      4\u001b[0m \u001b[0marray_to_img\u001b[0m\u001b[0;34m(\u001b[0m\u001b[0mpic_array\u001b[0m\u001b[0;34m)\u001b[0m\u001b[0;34m\u001b[0m\u001b[0;34m\u001b[0m\u001b[0m\n\u001b[1;32m      5\u001b[0m \u001b[0;34m\u001b[0m\u001b[0m\n",
            "\u001b[0;31mImportError\u001b[0m: cannot import name 'array_to_img' from 'keras.preprocessing.image' (/usr/local/lib/python3.10/dist-packages/keras/preprocessing/image.py)",
            "",
            "\u001b[0;31m---------------------------------------------------------------------------\u001b[0;32m\nNOTE: If your import is failing due to a missing package, you can\nmanually install dependencies using either !pip or !apt.\n\nTo view examples of installing some common dependencies, click the\n\"Open Examples\" button below.\n\u001b[0;31m---------------------------------------------------------------------------\u001b[0m\n"
          ],
          "errorDetails": {
            "actions": [
              {
                "action": "open_url",
                "actionText": "Open Examples",
                "url": "/notebooks/snippets/importing_libraries.ipynb"
              }
            ]
          }
        }
      ]
    }
  ]
}