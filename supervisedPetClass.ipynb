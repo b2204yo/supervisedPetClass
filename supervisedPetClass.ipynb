{
  "nbformat": 4,
  "nbformat_minor": 0,
  "metadata": {
    "colab": {
      "provenance": [],
      "gpuType": "T4",
      "authorship_tag": "ABX9TyNcBP+riTccdGNrfW9srjI6",
      "include_colab_link": true
    },
    "kernelspec": {
      "name": "python3",
      "display_name": "Python 3"
    },
    "language_info": {
      "name": "python"
    },
    "accelerator": "GPU"
  },
  "cells": [
    {
      "cell_type": "markdown",
      "metadata": {
        "id": "view-in-github",
        "colab_type": "text"
      },
      "source": [
        "<a href=\"https://colab.research.google.com/github/b2204yo/supervisedPetClass/blob/develop/supervisedPetClass.ipynb\" target=\"_parent\"><img src=\"https://colab.research.google.com/assets/colab-badge.svg\" alt=\"Open In Colab\"/></a>"
      ]
    },
    {
      "cell_type": "code",
      "execution_count": 26,
      "metadata": {
        "id": "492z8uE6B0tL"
      },
      "outputs": [],
      "source": [
        "from tensorflow import keras\n",
        "from tensorflow.keras import layers\n",
        "from tensorflow.keras.datasets import mnist"
      ]
    },
    {
      "cell_type": "markdown",
      "source": [
        "Downloading the data"
      ],
      "metadata": {
        "id": "lL9NXDqJQCgX"
      }
    },
    {
      "cell_type": "code",
      "source": [
        "from google.colab import files\n",
        "files.upload()\n",
        "\n",
        "!mkdir ~/.kaggle\n",
        "!cp kaggle.json ~/.kaggle/\n",
        "!chmod 600 ~/.kaggle/kaggle.json\n",
        "\n",
        "!kaggle competitions download -c dogs-vs-cats\n",
        "\n",
        "!unzip -qq dogs-vs-cats.zip\n",
        "\n",
        "!unzip -qq train.zip"
      ],
      "metadata": {
        "colab": {
          "base_uri": "https://localhost:8080/",
          "height": 112
        },
        "id": "3ibXZzU1CJfP",
        "outputId": "27d02ca5-9961-46b1-8d1c-b12179ddf618"
      },
      "execution_count": 27,
      "outputs": [
        {
          "output_type": "display_data",
          "data": {
            "text/plain": [
              "<IPython.core.display.HTML object>"
            ],
            "text/html": [
              "\n",
              "     <input type=\"file\" id=\"files-95010f8f-6cfe-4ff9-b51b-ab582011d96b\" name=\"files[]\" multiple disabled\n",
              "        style=\"border:none\" />\n",
              "     <output id=\"result-95010f8f-6cfe-4ff9-b51b-ab582011d96b\">\n",
              "      Upload widget is only available when the cell has been executed in the\n",
              "      current browser session. Please rerun this cell to enable.\n",
              "      </output>\n",
              "      <script>// Copyright 2017 Google LLC\n",
              "//\n",
              "// Licensed under the Apache License, Version 2.0 (the \"License\");\n",
              "// you may not use this file except in compliance with the License.\n",
              "// You may obtain a copy of the License at\n",
              "//\n",
              "//      http://www.apache.org/licenses/LICENSE-2.0\n",
              "//\n",
              "// Unless required by applicable law or agreed to in writing, software\n",
              "// distributed under the License is distributed on an \"AS IS\" BASIS,\n",
              "// WITHOUT WARRANTIES OR CONDITIONS OF ANY KIND, either express or implied.\n",
              "// See the License for the specific language governing permissions and\n",
              "// limitations under the License.\n",
              "\n",
              "/**\n",
              " * @fileoverview Helpers for google.colab Python module.\n",
              " */\n",
              "(function(scope) {\n",
              "function span(text, styleAttributes = {}) {\n",
              "  const element = document.createElement('span');\n",
              "  element.textContent = text;\n",
              "  for (const key of Object.keys(styleAttributes)) {\n",
              "    element.style[key] = styleAttributes[key];\n",
              "  }\n",
              "  return element;\n",
              "}\n",
              "\n",
              "// Max number of bytes which will be uploaded at a time.\n",
              "const MAX_PAYLOAD_SIZE = 100 * 1024;\n",
              "\n",
              "function _uploadFiles(inputId, outputId) {\n",
              "  const steps = uploadFilesStep(inputId, outputId);\n",
              "  const outputElement = document.getElementById(outputId);\n",
              "  // Cache steps on the outputElement to make it available for the next call\n",
              "  // to uploadFilesContinue from Python.\n",
              "  outputElement.steps = steps;\n",
              "\n",
              "  return _uploadFilesContinue(outputId);\n",
              "}\n",
              "\n",
              "// This is roughly an async generator (not supported in the browser yet),\n",
              "// where there are multiple asynchronous steps and the Python side is going\n",
              "// to poll for completion of each step.\n",
              "// This uses a Promise to block the python side on completion of each step,\n",
              "// then passes the result of the previous step as the input to the next step.\n",
              "function _uploadFilesContinue(outputId) {\n",
              "  const outputElement = document.getElementById(outputId);\n",
              "  const steps = outputElement.steps;\n",
              "\n",
              "  const next = steps.next(outputElement.lastPromiseValue);\n",
              "  return Promise.resolve(next.value.promise).then((value) => {\n",
              "    // Cache the last promise value to make it available to the next\n",
              "    // step of the generator.\n",
              "    outputElement.lastPromiseValue = value;\n",
              "    return next.value.response;\n",
              "  });\n",
              "}\n",
              "\n",
              "/**\n",
              " * Generator function which is called between each async step of the upload\n",
              " * process.\n",
              " * @param {string} inputId Element ID of the input file picker element.\n",
              " * @param {string} outputId Element ID of the output display.\n",
              " * @return {!Iterable<!Object>} Iterable of next steps.\n",
              " */\n",
              "function* uploadFilesStep(inputId, outputId) {\n",
              "  const inputElement = document.getElementById(inputId);\n",
              "  inputElement.disabled = false;\n",
              "\n",
              "  const outputElement = document.getElementById(outputId);\n",
              "  outputElement.innerHTML = '';\n",
              "\n",
              "  const pickedPromise = new Promise((resolve) => {\n",
              "    inputElement.addEventListener('change', (e) => {\n",
              "      resolve(e.target.files);\n",
              "    });\n",
              "  });\n",
              "\n",
              "  const cancel = document.createElement('button');\n",
              "  inputElement.parentElement.appendChild(cancel);\n",
              "  cancel.textContent = 'Cancel upload';\n",
              "  const cancelPromise = new Promise((resolve) => {\n",
              "    cancel.onclick = () => {\n",
              "      resolve(null);\n",
              "    };\n",
              "  });\n",
              "\n",
              "  // Wait for the user to pick the files.\n",
              "  const files = yield {\n",
              "    promise: Promise.race([pickedPromise, cancelPromise]),\n",
              "    response: {\n",
              "      action: 'starting',\n",
              "    }\n",
              "  };\n",
              "\n",
              "  cancel.remove();\n",
              "\n",
              "  // Disable the input element since further picks are not allowed.\n",
              "  inputElement.disabled = true;\n",
              "\n",
              "  if (!files) {\n",
              "    return {\n",
              "      response: {\n",
              "        action: 'complete',\n",
              "      }\n",
              "    };\n",
              "  }\n",
              "\n",
              "  for (const file of files) {\n",
              "    const li = document.createElement('li');\n",
              "    li.append(span(file.name, {fontWeight: 'bold'}));\n",
              "    li.append(span(\n",
              "        `(${file.type || 'n/a'}) - ${file.size} bytes, ` +\n",
              "        `last modified: ${\n",
              "            file.lastModifiedDate ? file.lastModifiedDate.toLocaleDateString() :\n",
              "                                    'n/a'} - `));\n",
              "    const percent = span('0% done');\n",
              "    li.appendChild(percent);\n",
              "\n",
              "    outputElement.appendChild(li);\n",
              "\n",
              "    const fileDataPromise = new Promise((resolve) => {\n",
              "      const reader = new FileReader();\n",
              "      reader.onload = (e) => {\n",
              "        resolve(e.target.result);\n",
              "      };\n",
              "      reader.readAsArrayBuffer(file);\n",
              "    });\n",
              "    // Wait for the data to be ready.\n",
              "    let fileData = yield {\n",
              "      promise: fileDataPromise,\n",
              "      response: {\n",
              "        action: 'continue',\n",
              "      }\n",
              "    };\n",
              "\n",
              "    // Use a chunked sending to avoid message size limits. See b/62115660.\n",
              "    let position = 0;\n",
              "    do {\n",
              "      const length = Math.min(fileData.byteLength - position, MAX_PAYLOAD_SIZE);\n",
              "      const chunk = new Uint8Array(fileData, position, length);\n",
              "      position += length;\n",
              "\n",
              "      const base64 = btoa(String.fromCharCode.apply(null, chunk));\n",
              "      yield {\n",
              "        response: {\n",
              "          action: 'append',\n",
              "          file: file.name,\n",
              "          data: base64,\n",
              "        },\n",
              "      };\n",
              "\n",
              "      let percentDone = fileData.byteLength === 0 ?\n",
              "          100 :\n",
              "          Math.round((position / fileData.byteLength) * 100);\n",
              "      percent.textContent = `${percentDone}% done`;\n",
              "\n",
              "    } while (position < fileData.byteLength);\n",
              "  }\n",
              "\n",
              "  // All done.\n",
              "  yield {\n",
              "    response: {\n",
              "      action: 'complete',\n",
              "    }\n",
              "  };\n",
              "}\n",
              "\n",
              "scope.google = scope.google || {};\n",
              "scope.google.colab = scope.google.colab || {};\n",
              "scope.google.colab._files = {\n",
              "  _uploadFiles,\n",
              "  _uploadFilesContinue,\n",
              "};\n",
              "})(self);\n",
              "</script> "
            ]
          },
          "metadata": {}
        },
        {
          "output_type": "stream",
          "name": "stdout",
          "text": [
            "mkdir: cannot create directory ‘/root/.kaggle’: File exists\n",
            "dogs-vs-cats.zip: Skipping, found more recently modified local copy (use --force to force download)\n",
            "replace sampleSubmission.csv? [y]es, [n]o, [A]ll, [N]one, [r]ename: N\n",
            "replace train/cat.0.jpg? [y]es, [n]o, [A]ll, [N]one, [r]ename: A\n"
          ]
        }
      ]
    },
    {
      "cell_type": "markdown",
      "source": [
        "Copying images to training, validation, and test directories"
      ],
      "metadata": {
        "id": "oAdpFC_jQHze"
      }
    },
    {
      "cell_type": "code",
      "source": [
        "import os, shutil, pathlib\n",
        "\n",
        "original_dir = pathlib.Path(\"train\")\n",
        "new_base_dir = pathlib.Path(\"cats_vs_dogs_small\")\n",
        "\n",
        "def make_subset(subset_name, start_index, end_index):\n",
        "    for category in (\"cat\", \"dog\"):\n",
        "        dir = new_base_dir / subset_name / category\n",
        "        os.makedirs(dir)\n",
        "        fnames = [f\"{category}.{i}.jpg\" for i in range(start_index, end_index)]\n",
        "        for fname in fnames:\n",
        "            shutil.copyfile(src=original_dir / fname,\n",
        "                            dst=dir / fname)\n",
        "\n",
        "make_subset(\"train\", start_index=0, end_index=1000)\n",
        "make_subset(\"validation\", start_index=1000, end_index=1500)\n",
        "make_subset(\"test\", start_index=1500, end_index=2500)"
      ],
      "metadata": {
        "id": "dRCHj-83CDiW",
        "colab": {
          "base_uri": "https://localhost:8080/",
          "height": 385
        },
        "outputId": "67d8406f-e877-49d1-f296-6a2da871dd24"
      },
      "execution_count": 29,
      "outputs": [
        {
          "output_type": "error",
          "ename": "FileExistsError",
          "evalue": "ignored",
          "traceback": [
            "\u001b[0;31m---------------------------------------------------------------------------\u001b[0m",
            "\u001b[0;31mFileExistsError\u001b[0m                           Traceback (most recent call last)",
            "\u001b[0;32m<ipython-input-29-96e33f153935>\u001b[0m in \u001b[0;36m<cell line: 15>\u001b[0;34m()\u001b[0m\n\u001b[1;32m     13\u001b[0m                             dst=dir / fname)\n\u001b[1;32m     14\u001b[0m \u001b[0;34m\u001b[0m\u001b[0m\n\u001b[0;32m---> 15\u001b[0;31m \u001b[0mmake_subset\u001b[0m\u001b[0;34m(\u001b[0m\u001b[0;34m\"train\"\u001b[0m\u001b[0;34m,\u001b[0m \u001b[0mstart_index\u001b[0m\u001b[0;34m=\u001b[0m\u001b[0;36m0\u001b[0m\u001b[0;34m,\u001b[0m \u001b[0mend_index\u001b[0m\u001b[0;34m=\u001b[0m\u001b[0;36m1000\u001b[0m\u001b[0;34m)\u001b[0m\u001b[0;34m\u001b[0m\u001b[0;34m\u001b[0m\u001b[0m\n\u001b[0m\u001b[1;32m     16\u001b[0m \u001b[0mmake_subset\u001b[0m\u001b[0;34m(\u001b[0m\u001b[0;34m\"validation\"\u001b[0m\u001b[0;34m,\u001b[0m \u001b[0mstart_index\u001b[0m\u001b[0;34m=\u001b[0m\u001b[0;36m1000\u001b[0m\u001b[0;34m,\u001b[0m \u001b[0mend_index\u001b[0m\u001b[0;34m=\u001b[0m\u001b[0;36m1500\u001b[0m\u001b[0;34m)\u001b[0m\u001b[0;34m\u001b[0m\u001b[0;34m\u001b[0m\u001b[0m\n\u001b[1;32m     17\u001b[0m \u001b[0mmake_subset\u001b[0m\u001b[0;34m(\u001b[0m\u001b[0;34m\"test\"\u001b[0m\u001b[0;34m,\u001b[0m \u001b[0mstart_index\u001b[0m\u001b[0;34m=\u001b[0m\u001b[0;36m1500\u001b[0m\u001b[0;34m,\u001b[0m \u001b[0mend_index\u001b[0m\u001b[0;34m=\u001b[0m\u001b[0;36m2500\u001b[0m\u001b[0;34m)\u001b[0m\u001b[0;34m\u001b[0m\u001b[0;34m\u001b[0m\u001b[0m\n",
            "\u001b[0;32m<ipython-input-29-96e33f153935>\u001b[0m in \u001b[0;36mmake_subset\u001b[0;34m(subset_name, start_index, end_index)\u001b[0m\n\u001b[1;32m      7\u001b[0m     \u001b[0;32mfor\u001b[0m \u001b[0mcategory\u001b[0m \u001b[0;32min\u001b[0m \u001b[0;34m(\u001b[0m\u001b[0;34m\"cat\"\u001b[0m\u001b[0;34m,\u001b[0m \u001b[0;34m\"dog\"\u001b[0m\u001b[0;34m)\u001b[0m\u001b[0;34m:\u001b[0m\u001b[0;34m\u001b[0m\u001b[0;34m\u001b[0m\u001b[0m\n\u001b[1;32m      8\u001b[0m         \u001b[0mdir\u001b[0m \u001b[0;34m=\u001b[0m \u001b[0mnew_base_dir\u001b[0m \u001b[0;34m/\u001b[0m \u001b[0msubset_name\u001b[0m \u001b[0;34m/\u001b[0m \u001b[0mcategory\u001b[0m\u001b[0;34m\u001b[0m\u001b[0;34m\u001b[0m\u001b[0m\n\u001b[0;32m----> 9\u001b[0;31m         \u001b[0mos\u001b[0m\u001b[0;34m.\u001b[0m\u001b[0mmakedirs\u001b[0m\u001b[0;34m(\u001b[0m\u001b[0mdir\u001b[0m\u001b[0;34m)\u001b[0m\u001b[0;34m\u001b[0m\u001b[0;34m\u001b[0m\u001b[0m\n\u001b[0m\u001b[1;32m     10\u001b[0m         \u001b[0mfnames\u001b[0m \u001b[0;34m=\u001b[0m \u001b[0;34m[\u001b[0m\u001b[0;34mf\"{category}.{i}.jpg\"\u001b[0m \u001b[0;32mfor\u001b[0m \u001b[0mi\u001b[0m \u001b[0;32min\u001b[0m \u001b[0mrange\u001b[0m\u001b[0;34m(\u001b[0m\u001b[0mstart_index\u001b[0m\u001b[0;34m,\u001b[0m \u001b[0mend_index\u001b[0m\u001b[0;34m)\u001b[0m\u001b[0;34m]\u001b[0m\u001b[0;34m\u001b[0m\u001b[0;34m\u001b[0m\u001b[0m\n\u001b[1;32m     11\u001b[0m         \u001b[0;32mfor\u001b[0m \u001b[0mfname\u001b[0m \u001b[0;32min\u001b[0m \u001b[0mfnames\u001b[0m\u001b[0;34m:\u001b[0m\u001b[0;34m\u001b[0m\u001b[0;34m\u001b[0m\u001b[0m\n",
            "\u001b[0;32m/usr/lib/python3.10/os.py\u001b[0m in \u001b[0;36mmakedirs\u001b[0;34m(name, mode, exist_ok)\u001b[0m\n\u001b[1;32m    223\u001b[0m             \u001b[0;32mreturn\u001b[0m\u001b[0;34m\u001b[0m\u001b[0;34m\u001b[0m\u001b[0m\n\u001b[1;32m    224\u001b[0m     \u001b[0;32mtry\u001b[0m\u001b[0;34m:\u001b[0m\u001b[0;34m\u001b[0m\u001b[0;34m\u001b[0m\u001b[0m\n\u001b[0;32m--> 225\u001b[0;31m         \u001b[0mmkdir\u001b[0m\u001b[0;34m(\u001b[0m\u001b[0mname\u001b[0m\u001b[0;34m,\u001b[0m \u001b[0mmode\u001b[0m\u001b[0;34m)\u001b[0m\u001b[0;34m\u001b[0m\u001b[0;34m\u001b[0m\u001b[0m\n\u001b[0m\u001b[1;32m    226\u001b[0m     \u001b[0;32mexcept\u001b[0m \u001b[0mOSError\u001b[0m\u001b[0;34m:\u001b[0m\u001b[0;34m\u001b[0m\u001b[0;34m\u001b[0m\u001b[0m\n\u001b[1;32m    227\u001b[0m         \u001b[0;31m# Cannot rely on checking for EEXIST, since the operating system\u001b[0m\u001b[0;34m\u001b[0m\u001b[0;34m\u001b[0m\u001b[0m\n",
            "\u001b[0;31mFileExistsError\u001b[0m: [Errno 17] File exists: 'cats_vs_dogs_small/train/cat'"
          ]
        }
      ]
    },
    {
      "cell_type": "markdown",
      "source": [
        "Select learning model"
      ],
      "metadata": {
        "id": "GC_B7Xxf3B_a"
      }
    },
    {
      "cell_type": "markdown",
      "source": [
        "Set picuter setting"
      ],
      "metadata": {
        "id": "ITYAoKRg1wrf"
      }
    },
    {
      "cell_type": "code",
      "source": [
        "learning_model_name = \"VGG16\"\n",
        "# VGG16 : 180, Efficient Net 224\n",
        "\n",
        "if learning_model_name == \"VGG16\" or \"ResNet\":\n",
        "  num_picel_units = 180\n",
        "  num_epoch = 30\n",
        "  conv_base  = keras.applications.vgg16.VGG16(\n",
        "     weights=\"imagenet\",\n",
        "     include_top=False)\n",
        "\n",
        "elif learning_model_name == \"EfficientNetV2\":\n",
        "  num_picel_units = 224\n",
        "  num_epoch = 350\n",
        "  conv_base  = keras.applications.vgg16.VGG16(\n",
        "     weights=\"imagenet\",\n",
        "     include_top=False)"
      ],
      "metadata": {
        "id": "ObGBxUsR10P6"
      },
      "execution_count": 49,
      "outputs": []
    },
    {
      "cell_type": "markdown",
      "source": [
        "Data preprocessing"
      ],
      "metadata": {
        "id": "Ew0N7Q6uTcTf"
      }
    },
    {
      "cell_type": "code",
      "source": [
        "from tensorflow.keras.utils import image_dataset_from_directory\n",
        "\n",
        "train_dataset = image_dataset_from_directory(\n",
        "    new_base_dir / \"train\",\n",
        "    image_size=(num_picel_units, num_picel_units),\n",
        "    batch_size=32)\n",
        "validation_dataset = image_dataset_from_directory(\n",
        "    new_base_dir / \"validation\",\n",
        "    image_size=(num_picel_units, num_picel_units),\n",
        "    batch_size=32)\n",
        "test_dataset = image_dataset_from_directory(\n",
        "    new_base_dir / \"test\",\n",
        "    image_size=(num_picel_units, num_picel_units),\n",
        "    batch_size=32)"
      ],
      "metadata": {
        "colab": {
          "base_uri": "https://localhost:8080/"
        },
        "id": "5nCbaMvsVrdw",
        "outputId": "c1d0553a-54a2-4c6f-c467-93e4c7d5c0c4"
      },
      "execution_count": 50,
      "outputs": [
        {
          "output_type": "stream",
          "name": "stdout",
          "text": [
            "Found 2000 files belonging to 2 classes.\n",
            "Found 1000 files belonging to 2 classes.\n",
            "Found 2000 files belonging to 2 classes.\n"
          ]
        }
      ]
    },
    {
      "cell_type": "code",
      "source": [
        "import numpy as np\n",
        "import tensorflow as tf\n",
        "random_numbers = np.random.normal(size=(1000, 16))\n",
        "dataset = tf.data.Dataset.from_tensor_slices(random_numbers)"
      ],
      "metadata": {
        "id": "M1PuTmWcVvzL"
      },
      "execution_count": 51,
      "outputs": []
    },
    {
      "cell_type": "code",
      "source": [
        "for i, element in enumerate(dataset):\n",
        "    print(element.shape)\n",
        "    if i >= 2:\n",
        "        break"
      ],
      "metadata": {
        "colab": {
          "base_uri": "https://localhost:8080/"
        },
        "id": "1YrZUvfTVyYx",
        "outputId": "e08d8778-1889-43bf-fca5-0f2c1423f70d"
      },
      "execution_count": 52,
      "outputs": [
        {
          "output_type": "stream",
          "name": "stdout",
          "text": [
            "(16,)\n",
            "(16,)\n",
            "(16,)\n"
          ]
        }
      ]
    },
    {
      "cell_type": "code",
      "source": [
        "batched_dataset = dataset.batch(32)\n",
        "for i, element in enumerate(batched_dataset):\n",
        "    print(element.shape)\n",
        "    if i >= 2:\n",
        "        break"
      ],
      "metadata": {
        "id": "CTRnYDfOV1Cn",
        "colab": {
          "base_uri": "https://localhost:8080/"
        },
        "outputId": "2c6fa14e-dc66-412d-ee0f-8139ee857814"
      },
      "execution_count": 53,
      "outputs": [
        {
          "output_type": "stream",
          "name": "stdout",
          "text": [
            "(32, 16)\n",
            "(32, 16)\n",
            "(32, 16)\n"
          ]
        }
      ]
    },
    {
      "cell_type": "code",
      "source": [
        "reshaped_dataset = dataset.map(lambda x: tf.reshape(x, (4, 4)))\n",
        "for i, element in enumerate(reshaped_dataset):\n",
        "    print(element.shape)\n",
        "    if i >= 2:\n",
        "        break"
      ],
      "metadata": {
        "colab": {
          "base_uri": "https://localhost:8080/"
        },
        "id": "72fFPmlMV29u",
        "outputId": "fe475fad-de35-4603-f328-973fa658cd51"
      },
      "execution_count": 54,
      "outputs": [
        {
          "output_type": "stream",
          "name": "stdout",
          "text": [
            "(4, 4)\n",
            "(4, 4)\n",
            "(4, 4)\n"
          ]
        }
      ]
    },
    {
      "cell_type": "markdown",
      "source": [
        "Displaying the shapes of the data and labels yielded by the Dataset"
      ],
      "metadata": {
        "id": "x8AlsjRCWATW"
      }
    },
    {
      "cell_type": "code",
      "source": [
        "for data_batch, labels_batch in train_dataset:\n",
        "    print(\"data batch shape:\", data_batch.shape)\n",
        "    print(\"labels batch shape:\", labels_batch.shape)\n",
        "    break"
      ],
      "metadata": {
        "colab": {
          "base_uri": "https://localhost:8080/"
        },
        "id": "6IPENK-HWCku",
        "outputId": "06e0a8ac-df9e-43bc-df00-3e2df6d43046"
      },
      "execution_count": 55,
      "outputs": [
        {
          "output_type": "stream",
          "name": "stdout",
          "text": [
            "data batch shape: (32, 180, 180, 3)\n",
            "labels batch shape: (32,)\n"
          ]
        }
      ]
    },
    {
      "cell_type": "markdown",
      "source": [
        "Using image_dataset_from_directory to read images"
      ],
      "metadata": {
        "id": "kVx68h_lTeZt"
      }
    },
    {
      "cell_type": "code",
      "source": [
        "from tensorflow.keras.utils import image_dataset_from_directory\n",
        "\n",
        "train_dataset = image_dataset_from_directory(\n",
        "    new_base_dir / \"train\",\n",
        "    image_size=(num_picel_units, num_picel_units),\n",
        "    batch_size=32)\n",
        "validation_dataset = image_dataset_from_directory(\n",
        "    new_base_dir / \"validation\",\n",
        "    image_size=(num_picel_units, num_picel_units),\n",
        "    batch_size=32)\n",
        "test_dataset = image_dataset_from_directory(\n",
        "    new_base_dir / \"test\",\n",
        "    image_size=(num_picel_units, num_picel_units),\n",
        "    batch_size=32)"
      ],
      "metadata": {
        "colab": {
          "base_uri": "https://localhost:8080/"
        },
        "id": "fiOw-E1wTgrW",
        "outputId": "dd13dab5-cc79-4f92-90ce-efb30ee2c543"
      },
      "execution_count": 56,
      "outputs": [
        {
          "output_type": "stream",
          "name": "stdout",
          "text": [
            "Found 2000 files belonging to 2 classes.\n",
            "Found 1000 files belonging to 2 classes.\n",
            "Found 2000 files belonging to 2 classes.\n"
          ]
        }
      ]
    },
    {
      "cell_type": "markdown",
      "source": [
        "Instantiating the VGG16,ResNet, Mobilenet, Efficient Net convolutional base"
      ],
      "metadata": {
        "id": "7CoOBTXZQnyV"
      }
    },
    {
      "cell_type": "code",
      "source": [
        "# VGG16\n",
        "# if learning_model_name == \"VGG16\":\n",
        "#   conv_base  = keras.applications.vgg16.VGG16(\n",
        "#      weights=\"imagenet\",\n",
        "#      include_top=False)\n",
        "\n",
        "# # Efficient\n",
        "# elif learning_model_name == \"EfficientNetV2\":\n",
        "#   conv_base = tf.keras.applications.efficientnet_v2.EfficientNetV2B0(weights=\"imagenet\")\n",
        "conv_base.summary()\n",
        "conv_base.trainable = False"
      ],
      "metadata": {
        "id": "uIq-N-lYbMdg"
      },
      "execution_count": null,
      "outputs": []
    },
    {
      "cell_type": "markdown",
      "source": [
        "Printing the list of trainable weights before and after freezing"
      ],
      "metadata": {
        "id": "uM2wnzqgbPE9"
      }
    },
    {
      "cell_type": "code",
      "source": [
        "conv_base.trainable = True\n",
        "print(\"This is the number of trainable weights \"\n",
        "      \"before freezing the conv base:\", len(conv_base.trainable_weights))"
      ],
      "metadata": {
        "colab": {
          "base_uri": "https://localhost:8080/"
        },
        "id": "U1K3YLBMbB3-",
        "outputId": "f77faba7-4103-460f-c80c-790b29d3cef4"
      },
      "execution_count": 38,
      "outputs": [
        {
          "output_type": "stream",
          "name": "stdout",
          "text": [
            "This is the number of trainable weights before freezing the conv base: 243\n"
          ]
        }
      ]
    },
    {
      "cell_type": "code",
      "source": [
        "conv_base.trainable = False\n",
        "print(\"This is the number of trainable weights \"\n",
        "      \"after freezing the conv base:\", len(conv_base.trainable_weights))"
      ],
      "metadata": {
        "colab": {
          "base_uri": "https://localhost:8080/"
        },
        "id": "uNK-k3bqbBnr",
        "outputId": "e8626952-e056-438e-a400-be2144fd76b6"
      },
      "execution_count": 39,
      "outputs": [
        {
          "output_type": "stream",
          "name": "stdout",
          "text": [
            "This is the number of trainable weights after freezing the conv base: 0\n"
          ]
        }
      ]
    },
    {
      "cell_type": "markdown",
      "source": [
        "Adding a data augmentation stage and a classifier to the convolutional base"
      ],
      "metadata": {
        "id": "iA45HLq6a_bS"
      }
    },
    {
      "cell_type": "code",
      "source": [
        "data_augmentation = keras.Sequential(\n",
        "    [\n",
        "        layers.RandomFlip(\"horizontal\"),\n",
        "        layers.RandomRotation(0.1),\n",
        "        layers.RandomZoom(0.2),\n",
        "    ]\n",
        ")\n",
        "\n",
        "inputs = keras.Input(shape=(num_picel_units, num_picel_units, 3))\n",
        "x = data_augmentation(inputs)\n",
        "x = keras.applications.vgg16.preprocess_input(x)\n",
        "x = conv_base(x)\n",
        "x = layers.Flatten()(x)\n",
        "x = layers.Dense(256)(x)\n",
        "x = layers.Dropout(0.5)(x)\n",
        "outputs = layers.Dense(1, activation=\"sigmoid\")(x)\n",
        "model = keras.Model(inputs, outputs)\n",
        "model.compile(loss=\"binary_crossentropy\",\n",
        "              optimizer=\"rmsprop\",\n",
        "              metrics=[\"accuracy\"])"
      ],
      "metadata": {
        "id": "IhQ4vUNZa7up"
      },
      "execution_count": 40,
      "outputs": []
    },
    {
      "cell_type": "markdown",
      "source": [
        "Evaluating the model on the test set"
      ],
      "metadata": {
        "id": "iRwwn2uGawkG"
      }
    },
    {
      "cell_type": "code",
      "source": [
        "conv_base.summary()"
      ],
      "metadata": {
        "id": "YGhFkTnMasgr"
      },
      "execution_count": null,
      "outputs": []
    },
    {
      "cell_type": "markdown",
      "source": [
        "Freezing all layers until the fourth from the last"
      ],
      "metadata": {
        "id": "sehRwbA_ajBI"
      }
    },
    {
      "cell_type": "code",
      "source": [
        "conv_base.trainable = True\n",
        "for layer in conv_base.layers[:-4]:\n",
        "    layer.trainable = False"
      ],
      "metadata": {
        "id": "sVSjtd0Kame1"
      },
      "execution_count": 42,
      "outputs": []
    },
    {
      "cell_type": "markdown",
      "source": [
        "Fine-tuning the model"
      ],
      "metadata": {
        "id": "xCXGPStBaYAt"
      }
    },
    {
      "cell_type": "code",
      "source": [
        "model.compile(loss=\"binary_crossentropy\",\n",
        "              optimizer=keras.optimizers.RMSprop(learning_rate=1e-5),\n",
        "              metrics=[\"accuracy\"])\n",
        "\n",
        "callbacks = [\n",
        "    keras.callbacks.ModelCheckpoint(\n",
        "        filepath=\"fine_tuning.keras\",\n",
        "        save_best_only=True,\n",
        "        monitor=\"val_loss\")\n",
        "]\n",
        "history = model.fit(\n",
        "    train_dataset,\n",
        "    epochs=num_epoch,\n",
        "    validation_data=validation_dataset,\n",
        "    callbacks=callbacks)"
      ],
      "metadata": {
        "colab": {
          "base_uri": "https://localhost:8080/"
        },
        "id": "kKGfeWsOaaOc",
        "outputId": "5e884115-f5b0-463f-93c2-3c089b8478a1"
      },
      "execution_count": 46,
      "outputs": [
        {
          "output_type": "stream",
          "name": "stdout",
          "text": [
            "Epoch 1/50\n",
            "63/63 [==============================] - 18s 141ms/step - loss: 0.6800 - accuracy: 0.6990 - val_loss: 0.6672 - val_accuracy: 0.8430\n",
            "Epoch 2/50\n",
            "63/63 [==============================] - 6s 96ms/step - loss: 0.6794 - accuracy: 0.7170 - val_loss: 0.6659 - val_accuracy: 0.8420\n",
            "Epoch 3/50\n",
            "63/63 [==============================] - 6s 97ms/step - loss: 0.6786 - accuracy: 0.7025 - val_loss: 0.6646 - val_accuracy: 0.8440\n",
            "Epoch 4/50\n",
            "63/63 [==============================] - 10s 149ms/step - loss: 0.6779 - accuracy: 0.7140 - val_loss: 0.6632 - val_accuracy: 0.8510\n",
            "Epoch 5/50\n",
            "63/63 [==============================] - 6s 98ms/step - loss: 0.6774 - accuracy: 0.7170 - val_loss: 0.6617 - val_accuracy: 0.8490\n",
            "Epoch 6/50\n",
            "63/63 [==============================] - 7s 108ms/step - loss: 0.6758 - accuracy: 0.7225 - val_loss: 0.6602 - val_accuracy: 0.8500\n",
            "Epoch 7/50\n",
            "63/63 [==============================] - 7s 109ms/step - loss: 0.6757 - accuracy: 0.7320 - val_loss: 0.6586 - val_accuracy: 0.8500\n",
            "Epoch 8/50\n",
            "63/63 [==============================] - 7s 112ms/step - loss: 0.6748 - accuracy: 0.7360 - val_loss: 0.6570 - val_accuracy: 0.8490\n",
            "Epoch 9/50\n",
            "63/63 [==============================] - 8s 123ms/step - loss: 0.6738 - accuracy: 0.7410 - val_loss: 0.6554 - val_accuracy: 0.8480\n",
            "Epoch 10/50\n",
            "63/63 [==============================] - 6s 95ms/step - loss: 0.6739 - accuracy: 0.7175 - val_loss: 0.6537 - val_accuracy: 0.8510\n",
            "Epoch 11/50\n",
            "63/63 [==============================] - 7s 109ms/step - loss: 0.6718 - accuracy: 0.7270 - val_loss: 0.6519 - val_accuracy: 0.8510\n",
            "Epoch 12/50\n",
            "63/63 [==============================] - 6s 96ms/step - loss: 0.6708 - accuracy: 0.7385 - val_loss: 0.6501 - val_accuracy: 0.8510\n",
            "Epoch 13/50\n",
            "63/63 [==============================] - 7s 111ms/step - loss: 0.6704 - accuracy: 0.7350 - val_loss: 0.6482 - val_accuracy: 0.8500\n",
            "Epoch 14/50\n",
            "63/63 [==============================] - 7s 99ms/step - loss: 0.6688 - accuracy: 0.7385 - val_loss: 0.6463 - val_accuracy: 0.8500\n",
            "Epoch 15/50\n",
            "63/63 [==============================] - 6s 95ms/step - loss: 0.6677 - accuracy: 0.7415 - val_loss: 0.6444 - val_accuracy: 0.8500\n",
            "Epoch 16/50\n",
            "63/63 [==============================] - 7s 110ms/step - loss: 0.6666 - accuracy: 0.7445 - val_loss: 0.6423 - val_accuracy: 0.8490\n",
            "Epoch 17/50\n",
            "63/63 [==============================] - 6s 98ms/step - loss: 0.6654 - accuracy: 0.7425 - val_loss: 0.6402 - val_accuracy: 0.8480\n",
            "Epoch 18/50\n",
            "63/63 [==============================] - 7s 102ms/step - loss: 0.6662 - accuracy: 0.7400 - val_loss: 0.6381 - val_accuracy: 0.8510\n",
            "Epoch 19/50\n",
            "63/63 [==============================] - 7s 109ms/step - loss: 0.6637 - accuracy: 0.7380 - val_loss: 0.6358 - val_accuracy: 0.8510\n",
            "Epoch 20/50\n",
            "63/63 [==============================] - 6s 97ms/step - loss: 0.6617 - accuracy: 0.7500 - val_loss: 0.6335 - val_accuracy: 0.8510\n",
            "Epoch 21/50\n",
            "63/63 [==============================] - 6s 98ms/step - loss: 0.6611 - accuracy: 0.7560 - val_loss: 0.6312 - val_accuracy: 0.8490\n",
            "Epoch 22/50\n",
            "63/63 [==============================] - 7s 113ms/step - loss: 0.6601 - accuracy: 0.7535 - val_loss: 0.6288 - val_accuracy: 0.8510\n",
            "Epoch 23/50\n",
            "63/63 [==============================] - 7s 111ms/step - loss: 0.6575 - accuracy: 0.7520 - val_loss: 0.6264 - val_accuracy: 0.8520\n",
            "Epoch 24/50\n",
            "63/63 [==============================] - 6s 98ms/step - loss: 0.6557 - accuracy: 0.7420 - val_loss: 0.6239 - val_accuracy: 0.8530\n",
            "Epoch 25/50\n",
            "63/63 [==============================] - 7s 106ms/step - loss: 0.6554 - accuracy: 0.7500 - val_loss: 0.6214 - val_accuracy: 0.8520\n",
            "Epoch 26/50\n",
            "63/63 [==============================] - 7s 111ms/step - loss: 0.6558 - accuracy: 0.7420 - val_loss: 0.6188 - val_accuracy: 0.8520\n",
            "Epoch 27/50\n",
            "63/63 [==============================] - 6s 96ms/step - loss: 0.6530 - accuracy: 0.7450 - val_loss: 0.6161 - val_accuracy: 0.8520\n",
            "Epoch 28/50\n",
            "63/63 [==============================] - 7s 100ms/step - loss: 0.6513 - accuracy: 0.7625 - val_loss: 0.6134 - val_accuracy: 0.8520\n",
            "Epoch 29/50\n",
            "63/63 [==============================] - 7s 109ms/step - loss: 0.6498 - accuracy: 0.7610 - val_loss: 0.6107 - val_accuracy: 0.8550\n",
            "Epoch 30/50\n",
            "63/63 [==============================] - 6s 99ms/step - loss: 0.6485 - accuracy: 0.7605 - val_loss: 0.6078 - val_accuracy: 0.8550\n",
            "Epoch 31/50\n",
            "63/63 [==============================] - 7s 110ms/step - loss: 0.6467 - accuracy: 0.7520 - val_loss: 0.6049 - val_accuracy: 0.8570\n",
            "Epoch 32/50\n",
            "63/63 [==============================] - 6s 97ms/step - loss: 0.6443 - accuracy: 0.7560 - val_loss: 0.6020 - val_accuracy: 0.8550\n",
            "Epoch 33/50\n",
            "63/63 [==============================] - 7s 115ms/step - loss: 0.6436 - accuracy: 0.7650 - val_loss: 0.5991 - val_accuracy: 0.8540\n",
            "Epoch 34/50\n",
            "63/63 [==============================] - 7s 110ms/step - loss: 0.6402 - accuracy: 0.7510 - val_loss: 0.5960 - val_accuracy: 0.8540\n",
            "Epoch 35/50\n",
            "63/63 [==============================] - 6s 97ms/step - loss: 0.6398 - accuracy: 0.7645 - val_loss: 0.5930 - val_accuracy: 0.8530\n",
            "Epoch 36/50\n",
            "63/63 [==============================] - 7s 108ms/step - loss: 0.6391 - accuracy: 0.7600 - val_loss: 0.5900 - val_accuracy: 0.8540\n",
            "Epoch 37/50\n",
            "63/63 [==============================] - 7s 111ms/step - loss: 0.6356 - accuracy: 0.7690 - val_loss: 0.5869 - val_accuracy: 0.8540\n",
            "Epoch 38/50\n",
            "63/63 [==============================] - 7s 106ms/step - loss: 0.6322 - accuracy: 0.7610 - val_loss: 0.5837 - val_accuracy: 0.8540\n",
            "Epoch 39/50\n",
            "63/63 [==============================] - 7s 108ms/step - loss: 0.6332 - accuracy: 0.7595 - val_loss: 0.5805 - val_accuracy: 0.8530\n",
            "Epoch 40/50\n",
            "63/63 [==============================] - 7s 110ms/step - loss: 0.6299 - accuracy: 0.7665 - val_loss: 0.5772 - val_accuracy: 0.8530\n",
            "Epoch 41/50\n",
            "63/63 [==============================] - 6s 97ms/step - loss: 0.6305 - accuracy: 0.7520 - val_loss: 0.5740 - val_accuracy: 0.8530\n",
            "Epoch 42/50\n",
            "63/63 [==============================] - 7s 111ms/step - loss: 0.6235 - accuracy: 0.7720 - val_loss: 0.5707 - val_accuracy: 0.8540\n",
            "Epoch 43/50\n",
            "63/63 [==============================] - 6s 98ms/step - loss: 0.6230 - accuracy: 0.7555 - val_loss: 0.5674 - val_accuracy: 0.8540\n",
            "Epoch 44/50\n",
            "63/63 [==============================] - 6s 96ms/step - loss: 0.6221 - accuracy: 0.7545 - val_loss: 0.5640 - val_accuracy: 0.8530\n",
            "Epoch 45/50\n",
            "63/63 [==============================] - 6s 97ms/step - loss: 0.6198 - accuracy: 0.7640 - val_loss: 0.5607 - val_accuracy: 0.8520\n",
            "Epoch 46/50\n",
            "63/63 [==============================] - 8s 125ms/step - loss: 0.6155 - accuracy: 0.7575 - val_loss: 0.5574 - val_accuracy: 0.8500\n",
            "Epoch 47/50\n",
            "63/63 [==============================] - 6s 97ms/step - loss: 0.6166 - accuracy: 0.7655 - val_loss: 0.5540 - val_accuracy: 0.8470\n",
            "Epoch 48/50\n",
            "63/63 [==============================] - 7s 111ms/step - loss: 0.6123 - accuracy: 0.7615 - val_loss: 0.5505 - val_accuracy: 0.8480\n",
            "Epoch 49/50\n",
            "63/63 [==============================] - 6s 97ms/step - loss: 0.6109 - accuracy: 0.7465 - val_loss: 0.5472 - val_accuracy: 0.8470\n",
            "Epoch 50/50\n",
            "63/63 [==============================] - 7s 109ms/step - loss: 0.6100 - accuracy: 0.7655 - val_loss: 0.5437 - val_accuracy: 0.8470\n"
          ]
        }
      ]
    },
    {
      "cell_type": "code",
      "source": [
        "model = keras.models.load_model(\"fine_tuning.keras\")\n",
        "test_loss, test_acc = model.evaluate(test_dataset)\n",
        "print(f\"Test accuracy: {test_acc:.3f}\")"
      ],
      "metadata": {
        "id": "AeX92hI6ac-r"
      },
      "execution_count": null,
      "outputs": []
    },
    {
      "cell_type": "markdown",
      "source": [
        "Plot result graph"
      ],
      "metadata": {
        "id": "67-CNbl9gnuU"
      }
    },
    {
      "cell_type": "code",
      "source": [
        "import matplotlib.pyplot as plt\n",
        "acc = history.history[\"accuracy\"]\n",
        "val_acc = history.history[\"val_accuracy\"]\n",
        "loss = history.history[\"loss\"]\n",
        "val_loss = history.history[\"val_loss\"]\n",
        "epochs = range(1, len(acc) + 1)\n",
        "plt.plot(epochs, acc, \"bo\", label=\"Training accuracy\")\n",
        "plt.plot(epochs, val_acc, \"b\", label=\"Validation accuracy\")\n",
        "plt.title(\"Training and validation accuracy\")\n",
        "plt.legend()\n",
        "plt.figure()\n",
        "plt.plot(epochs, loss, \"bo\", label=\"Training loss\")\n",
        "plt.plot(epochs, val_loss, \"b\", label=\"Validation loss\")\n",
        "plt.title(\"Training and validation loss\")\n",
        "plt.legend()\n",
        "plt.show()"
      ],
      "metadata": {
        "id": "gZ0Gpp3RgrQN"
      },
      "execution_count": null,
      "outputs": []
    }
  ]
}